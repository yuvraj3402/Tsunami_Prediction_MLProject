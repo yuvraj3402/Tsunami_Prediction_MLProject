{
 "cells": [
  {
   "cell_type": "code",
   "execution_count": 1,
   "metadata": {},
   "outputs": [],
   "source": [
    "from tsunami.constants import *\n",
    "from tsunami.utils import read_yaml_file\n",
    "from tsunami.config.configuration import configuration"
   ]
  },
  {
   "cell_type": "code",
   "execution_count": 2,
   "metadata": {},
   "outputs": [],
   "source": [
    "coc=configuration()"
   ]
  },
  {
   "cell_type": "code",
   "execution_count": 3,
   "metadata": {},
   "outputs": [],
   "source": [
    "ing_con=coc.get_data_ingestion_config()"
   ]
  },
  {
   "cell_type": "code",
   "execution_count": 4,
   "metadata": {},
   "outputs": [],
   "source": [
    "from tsunami.components.data_ingestion import DataIngestion"
   ]
  },
  {
   "cell_type": "code",
   "execution_count": 5,
   "metadata": {},
   "outputs": [],
   "source": [
    "ing_obj=DataIngestion(data_ingestion_config=ing_con)"
   ]
  },
  {
   "cell_type": "code",
   "execution_count": 6,
   "metadata": {},
   "outputs": [
    {
     "data": {
      "text/plain": [
       "DataIngestionArtifact(train_file_path='c:\\\\Users\\\\Admin\\\\OneDrive\\\\Desktop\\\\Tsunami_Git\\\\Tsunami_Prediction_Pipeline\\\\tsunami\\\\artifact\\\\data_ingestion\\\\2024-02-19-18-41-16\\\\train\\\\tsunami.csv', test_file_path='c:\\\\Users\\\\Admin\\\\OneDrive\\\\Desktop\\\\Tsunami_Git\\\\Tsunami_Prediction_Pipeline\\\\tsunami\\\\artifact\\\\data_ingestion\\\\2024-02-19-18-41-16\\\\test\\\\tsunami.csv')"
      ]
     },
     "execution_count": 6,
     "metadata": {},
     "output_type": "execute_result"
    }
   ],
   "source": [
    "ing_obj.initiate_data_ingestion()"
   ]
  }
 ],
 "metadata": {
  "kernelspec": {
   "display_name": "Python 3",
   "language": "python",
   "name": "python3"
  },
  "language_info": {
   "codemirror_mode": {
    "name": "ipython",
    "version": 3
   },
   "file_extension": ".py",
   "mimetype": "text/x-python",
   "name": "python",
   "nbconvert_exporter": "python",
   "pygments_lexer": "ipython3",
   "version": "3.9.0"
  }
 },
 "nbformat": 4,
 "nbformat_minor": 2
}
