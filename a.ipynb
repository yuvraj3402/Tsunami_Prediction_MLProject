{
 "cells": [
  {
   "cell_type": "code",
   "execution_count": 1,
   "metadata": {},
   "outputs": [],
   "source": [
    "from tsunami.constants import *\n",
    "from tsunami.utils import read_yaml_file\n"
   ]
  },
  {
   "cell_type": "code",
   "execution_count": 3,
   "metadata": {},
   "outputs": [],
   "source": [
    "import pandas as pd"
   ]
  },
  {
   "cell_type": "code",
   "execution_count": 4,
   "metadata": {},
   "outputs": [],
   "source": [
    "schmea=read_yaml_file(file_path=r\"C:\\Users\\Admin\\OneDrive\\Desktop\\Tsunami_Git\\Tsunami_Prediction_Pipeline\\config\\schema.yaml\")"
   ]
  },
  {
   "cell_type": "code",
   "execution_count": 7,
   "metadata": {},
   "outputs": [],
   "source": [
    "df=pd.read_csv(r\"c:\\\\Users\\\\Admin\\\\OneDrive\\\\Desktop\\\\Tsunami_Git\\\\Tsunami_Prediction_Pipeline\\\\tsunami\\\\artifact\\\\data_ingestion\\\\2024-02-19-18-41-16\\\\train\\\\tsunami.csv\")"
   ]
  },
  {
   "cell_type": "code",
   "execution_count": 18,
   "metadata": {},
   "outputs": [],
   "source": [
    "df_type=list(map(lambda x:str(x).replace(\"dtype('\",\"\").replace(\"')\",\"\"),df.dtypes.values))"
   ]
  }
 ],
 "metadata": {
  "kernelspec": {
   "display_name": "Python 3",
   "language": "python",
   "name": "python3"
  },
  "language_info": {
   "codemirror_mode": {
    "name": "ipython",
    "version": 3
   },
   "file_extension": ".py",
   "mimetype": "text/x-python",
   "name": "python",
   "nbconvert_exporter": "python",
   "pygments_lexer": "ipython3",
   "version": "3.9.0"
  }
 },
 "nbformat": 4,
 "nbformat_minor": 2
}
